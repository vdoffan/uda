{
  "cells": [
    {
      "cell_type": "markdown",
      "metadata": {
        "id": "view-in-github",
        "colab_type": "text"
      },
      "source": [
        "<a href=\"https://colab.research.google.com/github/vdoffan/uda/blob/main/task6_1.ipynb\" target=\"_parent\"><img src=\"https://colab.research.google.com/assets/colab-badge.svg\" alt=\"Open In Colab\"/></a>"
      ]
    },
    {
      "cell_type": "markdown",
      "metadata": {
        "id": "TD7nLBWpSiUt"
      },
      "source": [
        "# Предложения доработок по заданию 6"
      ]
    },
    {
      "cell_type": "markdown",
      "metadata": {
        "id": "6bju1XXVSiUv"
      },
      "source": [
        "**Примечание!** Код в данном ноутбуке не следует запускать. Данный формат оформления был выбран для повышения удобочитаемости и отдельно взятые ячейки с кодом не несут отдельный смысл - это просто предложения по улучшению программы."
      ]
    },
    {
      "cell_type": "markdown",
      "metadata": {
        "id": "Xg2_8NLRSiUw"
      },
      "source": [
        "## 1. Оптимизация структуры данных"
      ]
    },
    {
      "cell_type": "markdown",
      "metadata": {
        "id": "BT58rAsTSiUw"
      },
      "source": [
        "Проблема: Использование списков для хранения лемм и связанных с ними данных (dict_lemmas, dict_count, dict_tonal) приводит к медленной работе при поиске и обновлении, особенно на больших объемах данных.\n",
        "\n",
        "Решение: Перейти к использованию словарей (dict) для хранения лемм и их характеристик. Это позволит ускорить операции поиска, добавления и обновления данных благодаря постоянному времени доступа (O(1))."
      ]
    },
    {
      "cell_type": "markdown",
      "metadata": {
        "id": "D3p1wy3xSiUx"
      },
      "source": [
        "### Реализация"
      ]
    },
    {
      "cell_type": "markdown",
      "metadata": {
        "id": "iTvlt3sVSiUx"
      },
      "source": [
        "1. Структура данных:\n",
        "\n",
        "Вместо трех списков (dict_lemmas, dict_count, dict_tonal), использовать один словарь, где ключом будет лемма, а значением — объект, содержащий счетчик и тональность."
      ]
    },
    {
      "cell_type": "code",
      "execution_count": null,
      "metadata": {
        "id": "GYLd70CqSiUx"
      },
      "outputs": [],
      "source": [
        "from collections import defaultdict\n",
        "\n",
        "class LemmaData:\n",
        "    def __init__(self):\n",
        "        self.count = 0\n",
        "        self.tonality = 0.0\n",
        "\n",
        "lemmas = defaultdict(LemmaData)"
      ]
    },
    {
      "cell_type": "markdown",
      "metadata": {
        "id": "0rCzdoKkSiUy"
      },
      "source": [
        "2. Обновление лемм:\n",
        "\n",
        "При обработке каждого слова обновлять соответствующую запись в словаре."
      ]
    },
    {
      "cell_type": "code",
      "execution_count": null,
      "metadata": {
        "id": "SOKmAtUuSiUy"
      },
      "outputs": [],
      "source": [
        "# Пример для слов без дефиса\n",
        "lemma = spis2[j]\n",
        "lemmas[lemma].count += 1\n",
        "lemmas[lemma].tonality += korteg[1] if condition else 0  # Пример обновления тональности"
      ]
    },
    {
      "cell_type": "markdown",
      "metadata": {
        "id": "z3v-lFuKSiUz"
      },
      "source": [
        "3. Обработка слов с дефисом:\n",
        "\n",
        "Аналогично обновлять словарь для составных слов."
      ]
    },
    {
      "cell_type": "code",
      "execution_count": null,
      "metadata": {
        "id": "Ui3iZUcISiUz"
      },
      "outputs": [],
      "source": [
        "# Пример для слов с дефисом\n",
        "lemma = spis[0].normal_form\n",
        "lemmas[lemma].count += 1\n",
        "lemmas[lemma].tonality += ton / len(words)"
      ]
    },
    {
      "cell_type": "markdown",
      "metadata": {
        "id": "JYt8C-A5SiUz"
      },
      "source": [
        "4. Вычисление общей тональности:"
      ]
    },
    {
      "cell_type": "code",
      "execution_count": null,
      "metadata": {
        "id": "R_ls49_NSiUz"
      },
      "outputs": [],
      "source": [
        "t_g = sum(data.tonality * data.count for data in lemmas.values() if data.tonality > 0)\n",
        "t_b = sum(-data.tonality * data.count for data in lemmas.values() if data.tonality < 0)\n",
        "tonalities = t_g + t_b"
      ]
    },
    {
      "cell_type": "markdown",
      "metadata": {
        "id": "e1IdoCeaSiUz"
      },
      "source": [
        "5. Сортировка и подготовка данных для вывода:"
      ]
    },
    {
      "cell_type": "code",
      "execution_count": null,
      "metadata": {
        "id": "H_PdOiSBSiUz"
      },
      "outputs": [],
      "source": [
        "sorted_lemmas = sorted(lemmas.items(), key=lambda item: item[1].tonality * item[1].count, reverse=True)"
      ]
    },
    {
      "cell_type": "markdown",
      "metadata": {
        "id": "aBteIeafSiUz"
      },
      "source": [
        "**Преимущества:**\n",
        "\n",
        "* Быстрый доступ: Поиск и обновление лемм осуществляется за постоянное время.\n",
        "* Упрощение кода: Меньше циклов и проверок, код становится чище и понятнее.\n",
        "* Меньше ошибок: Снижается вероятность ошибок при работе с несколькими списками параллельно."
      ]
    },
    {
      "cell_type": "markdown",
      "metadata": {
        "id": "ajfX4U2aSiU0"
      },
      "source": [
        "## 2. Гибкость настроек"
      ]
    },
    {
      "cell_type": "markdown",
      "metadata": {
        "id": "iLIddWX5SiU0"
      },
      "source": [
        "Можно реализовать такую функцию для обработки запросов пользователя."
      ]
    },
    {
      "cell_type": "code",
      "execution_count": null,
      "metadata": {
        "id": "dnc_m8PTSiU0"
      },
      "outputs": [],
      "source": [
        "def get_user_input():\n",
        "    \"\"\"\n",
        "    Запрашивает у пользователя необходимые параметры для анализа через терминал.\n",
        "\n",
        "    Возвращает:\n",
        "        dict: Словарь с введенными пользователем параметрами.\n",
        "    \"\"\"\n",
        "    input_file = input(\"Введите имя входного файла (например, input.txt): \").strip()\n",
        "    output_file = input(\"Введите имя выходного файла (по умолчанию 'output.csv'): \").strip()\n",
        "    if not output_file:\n",
        "        output_file = \"output.csv\"\n",
        "\n",
        "    encoding = input(\"Введите кодировку входного файла (по умолчанию 'UTF-8'): \").strip()\n",
        "    if not encoding:\n",
        "        encoding = \"UTF-8\"\n",
        "\n",
        "    save_plot = input(\"Хотите сохранить график? (да/нет): \").strip().lower()\n",
        "    if save_plot == 'да':\n",
        "        plot_file = input(\"Введите имя файла для сохранения графика (например, plot.png): \").strip()\n",
        "    else:\n",
        "        plot_file = None\n",
        "\n",
        "    try:\n",
        "        top_n = int(input(\"Введите количество топовых лемм для визуализации (по умолчанию 20): \").strip())\n",
        "    except ValueError:\n",
        "        top_n = 20\n",
        "\n",
        "    try:\n",
        "        genre_threshold = float(input(\"Введите порог для определения жанра (по умолчанию 0.05): \").strip())\n",
        "    except ValueError:\n",
        "        genre_threshold = 0.05\n",
        "\n",
        "    return {\n",
        "        'input_file': input_file,\n",
        "        'output_file': output_file,\n",
        "        'encoding': encoding,\n",
        "        'save_plot': plot_file,\n",
        "        'top_n': top_n,\n",
        "        'genre_threshold': genre_threshold\n",
        "    }"
      ]
    },
    {
      "cell_type": "markdown",
      "metadata": {
        "id": "8A4SLwzISiU0"
      },
      "source": [
        "Пример использования\n",
        "1. Запустите ноутбук.\n",
        "2. Введите необходимые параметры по запросам:\n",
        "* Имя входного файла (например, input.txt).\n",
        "* Имя выходного файла (по умолчанию output.csv).\n",
        "* Кодировку входного файла (по умолчанию UTF-8).\n",
        "* Желаете ли сохранить график? (да или нет).\n",
        "* Если да, введите имя файла для сохранения графика (например, plot.png).\n",
        "* Количество топовых лемм для визуализации (по умолчанию 20).\n",
        "* Порог для определения жанра (по умолчанию 0.05).\n",
        "3. Результаты анализа будут выведены в терминал, сохранены в CSV-файл и, при необходимости, сохранен график."
      ]
    },
    {
      "cell_type": "markdown",
      "metadata": {
        "id": "HDeI7iDXSiU0"
      },
      "source": [
        "С вводом можно работать следующим образом"
      ]
    },
    {
      "cell_type": "code",
      "execution_count": null,
      "metadata": {
        "id": "P4iXkiqOSiU0"
      },
      "outputs": [],
      "source": [
        "try:\n",
        "    with open(args['input_file'], encoding=args['encoding']) as f:\n",
        "        text = f.read().lower()\n",
        "except FileNotFoundError:\n",
        "    print(f\"Файл {args['input_file']} не найден.\")\n",
        "    exit(1)\n",
        "except UnicodeDecodeError:\n",
        "    print(f\"Невозможно декодировать файл {args['input_file']} с кодировкой {args['encoding']}.\")\n",
        "    exit(1)\n",
        "except Exception as e:\n",
        "    print(f\"Ошибка при чтении файла: {e}\")\n",
        "    exit(1)"
      ]
    },
    {
      "cell_type": "markdown",
      "metadata": {
        "id": "jmziaVuOSiU0"
      },
      "source": [
        "## 3. Расширение визуализации"
      ]
    },
    {
      "cell_type": "markdown",
      "metadata": {
        "id": "DkZwjPrmSiU0"
      },
      "source": [
        "Проблема: Программа отображает гистограмму, но не сохраняет её, что может быть неудобно для дальнейшего использования.\n",
        "\n",
        "Решение: Добавить возможность сохранения графиков в файлы различных форматов (например, PNG, PDF, SVG) через аргументы командной строки."
      ]
    },
    {
      "cell_type": "markdown",
      "metadata": {
        "id": "TB_FEAZwSiU0"
      },
      "source": [
        "### Реализация"
      ]
    },
    {
      "cell_type": "markdown",
      "metadata": {
        "id": "6c5-trCaSiU0"
      },
      "source": [
        "Можно создать функцию для визуализации работы программы"
      ]
    },
    {
      "cell_type": "code",
      "execution_count": null,
      "metadata": {
        "id": "XHAfYZbXSiU1"
      },
      "outputs": [],
      "source": [
        "def visualize_top_lemmas(lemmas, top_n=20, save_path=None):\n",
        "    sorted_lemmas = sorted(lemmas.items(), key=lambda item: abs(item[1]['tonality'] * item[1]['count']), reverse=True)\n",
        "    sorted_lemmas = [item for item in sorted_lemmas if abs(item[1]['tonality']) >= 0.05][:top_n]\n",
        "    sorted_lemmas.reverse()\n",
        "    lemmas_names = [item[0] for item in sorted_lemmas]\n",
        "    counts = [item[1]['count'] for item in sorted_lemmas]\n",
        "    tonn = [item[1]['tonality'] for item in sorted_lemmas]\n",
        "    colors = ['green' if t > 0 else 'red' for t in tonn]\n",
        "\n",
        "    plt.figure(figsize=(10, 8))\n",
        "    bars = plt.barh(lemmas_names, counts, color=colors)\n",
        "    for bar, t in zip(bars, tonn):\n",
        "        plt.text(bar.get_width(), bar.get_y() + bar.get_height() / 2, f\"{t:.2f}\", ha='left', va='center')\n",
        "    plt.xlabel('Количество')\n",
        "    plt.title('Слова, внесшие наибольший вклад в тональность текста')\n",
        "    plt.tight_layout()\n",
        "\n",
        "    if save_path:\n",
        "        plt.savefig(save_path)\n",
        "        print(f\"График сохранен как {save_path}\")\n",
        "    else:\n",
        "        plt.show()\n"
      ]
    },
    {
      "cell_type": "markdown",
      "metadata": {
        "id": "TBI-ksCiSiU1"
      },
      "source": [
        "Передача аргументов в функцию визуализации"
      ]
    },
    {
      "cell_type": "code",
      "execution_count": null,
      "metadata": {
        "id": "B9RNtBscSiU1"
      },
      "outputs": [],
      "source": [
        "args = get_user_input()\n",
        "# ... предшествующий код ...\n",
        "\n",
        "visualize_top_lemmas(lemmas, top_n=args.top_n, save_path=args.save_plot)"
      ]
    },
    {
      "cell_type": "markdown",
      "metadata": {
        "id": "9WlUSfpvSiU1"
      },
      "source": [
        "## Заключение"
      ]
    },
    {
      "cell_type": "markdown",
      "metadata": {
        "id": "qe9-gCSaSiU1"
      },
      "source": [
        "Надеюсь мои предложения помогут сделать программу лучше. Если есть какие-то замечания, всегда буду рад ответить и исправить их."
      ]
    }
  ],
  "metadata": {
    "kernelspec": {
      "display_name": "base",
      "language": "python",
      "name": "python3"
    },
    "language_info": {
      "name": "python",
      "version": "3.12.4"
    },
    "colab": {
      "provenance": [],
      "include_colab_link": true
    }
  },
  "nbformat": 4,
  "nbformat_minor": 0
}